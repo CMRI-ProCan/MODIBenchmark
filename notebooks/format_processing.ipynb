{
 "cells": [
  {
   "cell_type": "markdown",
   "metadata": {},
   "source": [
    "This notebook does necessary pre-processing to reformat the datasets"
   ]
  },
  {
   "cell_type": "code",
   "execution_count": 3,
   "metadata": {
    "ExecuteTime": {
     "end_time": "2020-06-30T02:08:51.282186Z",
     "start_time": "2020-06-30T02:08:48.677048Z"
    }
   },
   "outputs": [],
   "source": [
    "import pandas as pd\n",
    "import seaborn as sns\n",
    "from sklearn.model_selection import KFold\n",
    "from functools import reduce\n",
    "from sklearn.impute import SimpleImputer\n",
    "from sklearn.decomposition import PCA\n",
    "import umap"
   ]
  },
  {
   "cell_type": "code",
   "execution_count": 4,
   "metadata": {
    "ExecuteTime": {
     "end_time": "2020-06-30T02:08:51.296548Z",
     "start_time": "2020-06-30T02:08:51.283971Z"
    }
   },
   "outputs": [],
   "source": [
    "sample = pd.read_csv(\"../data/sample_info.csv\")"
   ]
  },
  {
   "cell_type": "code",
   "execution_count": 5,
   "metadata": {
    "ExecuteTime": {
     "end_time": "2020-06-30T02:08:51.310110Z",
     "start_time": "2020-06-30T02:08:51.298427Z"
    }
   },
   "outputs": [],
   "source": [
    "ccle2depmap = sample.set_index(['CCLE_Name']).to_dict()['DepMap_ID']"
   ]
  },
  {
   "cell_type": "code",
   "execution_count": 6,
   "metadata": {
    "ExecuteTime": {
     "end_time": "2020-06-30T02:08:52.077169Z",
     "start_time": "2020-06-30T02:08:51.311865Z"
    }
   },
   "outputs": [],
   "source": [
    "name_map = pd.read_csv(\"../data/HUMAN_9606_idmapping.gene_prot.dat\",\n",
    "                       sep='\\t',\n",
    "                       names=['ID', 'type', 'code'])\n",
    "name_map = name_map.drop_duplicates(['ID', 'type'])\n",
    "name_map = pd.pivot(name_map, index='ID', columns='type', values='code').dropna()\n",
    "\n",
    "name_map_dict = dict(zip(name_map['UniProtKB-ID'].values, name_map['Gene_Name'].values))"
   ]
  },
  {
   "cell_type": "markdown",
   "metadata": {},
   "source": [
    "# mutation"
   ]
  },
  {
   "cell_type": "code",
   "execution_count": 5,
   "metadata": {
    "ExecuteTime": {
     "end_time": "2020-06-25T05:30:38.746161Z",
     "start_time": "2020-06-25T05:30:31.857427Z"
    }
   },
   "outputs": [],
   "source": [
    "mutation = pd.read_csv(\"../data/CCLE_mutations.csv\", sep='\\t', low_memory=False)"
   ]
  },
  {
   "cell_type": "code",
   "execution_count": 6,
   "metadata": {
    "ExecuteTime": {
     "end_time": "2020-06-25T05:30:38.754383Z",
     "start_time": "2020-06-25T05:30:38.747802Z"
    }
   },
   "outputs": [
    {
     "data": {
      "text/plain": [
       "(1296237, 34)"
      ]
     },
     "execution_count": 6,
     "metadata": {},
     "output_type": "execute_result"
    }
   ],
   "source": [
    "mutation.shape"
   ]
  },
  {
   "cell_type": "code",
   "execution_count": 7,
   "metadata": {
    "ExecuteTime": {
     "end_time": "2020-06-25T05:30:39.475616Z",
     "start_time": "2020-06-25T05:30:38.756264Z"
    }
   },
   "outputs": [
    {
     "data": {
      "text/html": [
       "<div>\n",
       "<style scoped>\n",
       "    .dataframe tbody tr th:only-of-type {\n",
       "        vertical-align: middle;\n",
       "    }\n",
       "\n",
       "    .dataframe tbody tr th {\n",
       "        vertical-align: top;\n",
       "    }\n",
       "\n",
       "    .dataframe thead th {\n",
       "        text-align: right;\n",
       "    }\n",
       "</style>\n",
       "<table border=\"1\" class=\"dataframe\">\n",
       "  <thead>\n",
       "    <tr style=\"text-align: right;\">\n",
       "      <th></th>\n",
       "      <th>Hugo_Symbol</th>\n",
       "      <th>Entrez_Gene_Id</th>\n",
       "      <th>NCBI_Build</th>\n",
       "      <th>Chromosome</th>\n",
       "      <th>Start_position</th>\n",
       "      <th>End_position</th>\n",
       "      <th>Strand</th>\n",
       "      <th>Variant_Classification</th>\n",
       "      <th>Variant_Type</th>\n",
       "      <th>Reference_Allele</th>\n",
       "      <th>...</th>\n",
       "      <th>ExAC_AF</th>\n",
       "      <th>CGA_WES_AC</th>\n",
       "      <th>SangerWES_AC</th>\n",
       "      <th>SangerRecalibWES_AC</th>\n",
       "      <th>RNAseq_AC</th>\n",
       "      <th>HC_AC</th>\n",
       "      <th>RD_AC</th>\n",
       "      <th>WGS_AC</th>\n",
       "      <th>Variant_annotation</th>\n",
       "      <th>DepMap_ID</th>\n",
       "    </tr>\n",
       "  </thead>\n",
       "  <tbody>\n",
       "    <tr>\n",
       "      <th>0</th>\n",
       "      <td>A1BG</td>\n",
       "      <td>1</td>\n",
       "      <td>37</td>\n",
       "      <td>19</td>\n",
       "      <td>58858743</td>\n",
       "      <td>58858743</td>\n",
       "      <td>+</td>\n",
       "      <td>Missense_Mutation</td>\n",
       "      <td>SNP</td>\n",
       "      <td>C</td>\n",
       "      <td>...</td>\n",
       "      <td>NaN</td>\n",
       "      <td>NaN</td>\n",
       "      <td>20:16</td>\n",
       "      <td>20:16</td>\n",
       "      <td>NaN</td>\n",
       "      <td>NaN</td>\n",
       "      <td>NaN</td>\n",
       "      <td>NaN</td>\n",
       "      <td>other non-conserving</td>\n",
       "      <td>ACH-000986</td>\n",
       "    </tr>\n",
       "    <tr>\n",
       "      <th>1</th>\n",
       "      <td>A1BG</td>\n",
       "      <td>1</td>\n",
       "      <td>37</td>\n",
       "      <td>19</td>\n",
       "      <td>58858810</td>\n",
       "      <td>58858810</td>\n",
       "      <td>+</td>\n",
       "      <td>Silent</td>\n",
       "      <td>SNP</td>\n",
       "      <td>C</td>\n",
       "      <td>...</td>\n",
       "      <td>NaN</td>\n",
       "      <td>NaN</td>\n",
       "      <td>10:21</td>\n",
       "      <td>14:23</td>\n",
       "      <td>34:87</td>\n",
       "      <td>NaN</td>\n",
       "      <td>NaN</td>\n",
       "      <td>22:19</td>\n",
       "      <td>silent</td>\n",
       "      <td>ACH-000988</td>\n",
       "    </tr>\n",
       "    <tr>\n",
       "      <th>2</th>\n",
       "      <td>A1BG</td>\n",
       "      <td>1</td>\n",
       "      <td>37</td>\n",
       "      <td>19</td>\n",
       "      <td>58858867</td>\n",
       "      <td>58858867</td>\n",
       "      <td>+</td>\n",
       "      <td>Missense_Mutation</td>\n",
       "      <td>SNP</td>\n",
       "      <td>C</td>\n",
       "      <td>...</td>\n",
       "      <td>NaN</td>\n",
       "      <td>NaN</td>\n",
       "      <td>4:9</td>\n",
       "      <td>4:9</td>\n",
       "      <td>NaN</td>\n",
       "      <td>NaN</td>\n",
       "      <td>NaN</td>\n",
       "      <td>NaN</td>\n",
       "      <td>other non-conserving</td>\n",
       "      <td>ACH-002182</td>\n",
       "    </tr>\n",
       "    <tr>\n",
       "      <th>3</th>\n",
       "      <td>A1BG</td>\n",
       "      <td>1</td>\n",
       "      <td>37</td>\n",
       "      <td>19</td>\n",
       "      <td>58858872</td>\n",
       "      <td>58858872</td>\n",
       "      <td>+</td>\n",
       "      <td>Missense_Mutation</td>\n",
       "      <td>SNP</td>\n",
       "      <td>C</td>\n",
       "      <td>...</td>\n",
       "      <td>0.000017</td>\n",
       "      <td>NaN</td>\n",
       "      <td>NaN</td>\n",
       "      <td>NaN</td>\n",
       "      <td>NaN</td>\n",
       "      <td>NaN</td>\n",
       "      <td>NaN</td>\n",
       "      <td>9:16</td>\n",
       "      <td>other non-conserving</td>\n",
       "      <td>ACH-000985</td>\n",
       "    </tr>\n",
       "    <tr>\n",
       "      <th>4</th>\n",
       "      <td>A1BG</td>\n",
       "      <td>1</td>\n",
       "      <td>37</td>\n",
       "      <td>19</td>\n",
       "      <td>58858914</td>\n",
       "      <td>58858914</td>\n",
       "      <td>+</td>\n",
       "      <td>Missense_Mutation</td>\n",
       "      <td>SNP</td>\n",
       "      <td>C</td>\n",
       "      <td>...</td>\n",
       "      <td>0.000008</td>\n",
       "      <td>27:20</td>\n",
       "      <td>NaN</td>\n",
       "      <td>NaN</td>\n",
       "      <td>NaN</td>\n",
       "      <td>NaN</td>\n",
       "      <td>NaN</td>\n",
       "      <td>NaN</td>\n",
       "      <td>other non-conserving</td>\n",
       "      <td>ACH-001793</td>\n",
       "    </tr>\n",
       "    <tr>\n",
       "      <th>...</th>\n",
       "      <td>...</td>\n",
       "      <td>...</td>\n",
       "      <td>...</td>\n",
       "      <td>...</td>\n",
       "      <td>...</td>\n",
       "      <td>...</td>\n",
       "      <td>...</td>\n",
       "      <td>...</td>\n",
       "      <td>...</td>\n",
       "      <td>...</td>\n",
       "      <td>...</td>\n",
       "      <td>...</td>\n",
       "      <td>...</td>\n",
       "      <td>...</td>\n",
       "      <td>...</td>\n",
       "      <td>...</td>\n",
       "      <td>...</td>\n",
       "      <td>...</td>\n",
       "      <td>...</td>\n",
       "      <td>...</td>\n",
       "      <td>...</td>\n",
       "    </tr>\n",
       "    <tr>\n",
       "      <th>1296232</th>\n",
       "      <td>ZZZ3</td>\n",
       "      <td>26009</td>\n",
       "      <td>37</td>\n",
       "      <td>1</td>\n",
       "      <td>78098868</td>\n",
       "      <td>78098868</td>\n",
       "      <td>+</td>\n",
       "      <td>Missense_Mutation</td>\n",
       "      <td>SNP</td>\n",
       "      <td>G</td>\n",
       "      <td>...</td>\n",
       "      <td>NaN</td>\n",
       "      <td>NaN</td>\n",
       "      <td>49:260</td>\n",
       "      <td>48:248</td>\n",
       "      <td>NaN</td>\n",
       "      <td>NaN</td>\n",
       "      <td>NaN</td>\n",
       "      <td>NaN</td>\n",
       "      <td>other non-conserving</td>\n",
       "      <td>ACH-002280</td>\n",
       "    </tr>\n",
       "    <tr>\n",
       "      <th>1296233</th>\n",
       "      <td>ZZZ3</td>\n",
       "      <td>26009</td>\n",
       "      <td>37</td>\n",
       "      <td>1</td>\n",
       "      <td>78098935</td>\n",
       "      <td>78098935</td>\n",
       "      <td>+</td>\n",
       "      <td>Silent</td>\n",
       "      <td>SNP</td>\n",
       "      <td>A</td>\n",
       "      <td>...</td>\n",
       "      <td>NaN</td>\n",
       "      <td>NaN</td>\n",
       "      <td>NaN</td>\n",
       "      <td>NaN</td>\n",
       "      <td>6:15</td>\n",
       "      <td>NaN</td>\n",
       "      <td>NaN</td>\n",
       "      <td>NaN</td>\n",
       "      <td>silent</td>\n",
       "      <td>ACH-000992</td>\n",
       "    </tr>\n",
       "    <tr>\n",
       "      <th>1296234</th>\n",
       "      <td>ZZZ3</td>\n",
       "      <td>26009</td>\n",
       "      <td>37</td>\n",
       "      <td>1</td>\n",
       "      <td>78098970</td>\n",
       "      <td>78098970</td>\n",
       "      <td>+</td>\n",
       "      <td>Frame_Shift_Del</td>\n",
       "      <td>DEL</td>\n",
       "      <td>A</td>\n",
       "      <td>...</td>\n",
       "      <td>NaN</td>\n",
       "      <td>NaN</td>\n",
       "      <td>31:8</td>\n",
       "      <td>40:87</td>\n",
       "      <td>11:64</td>\n",
       "      <td>NaN</td>\n",
       "      <td>NaN</td>\n",
       "      <td>6:16</td>\n",
       "      <td>damaging</td>\n",
       "      <td>ACH-000985</td>\n",
       "    </tr>\n",
       "    <tr>\n",
       "      <th>1296235</th>\n",
       "      <td>ZZZ3</td>\n",
       "      <td>26009</td>\n",
       "      <td>37</td>\n",
       "      <td>1</td>\n",
       "      <td>78098986</td>\n",
       "      <td>78098986</td>\n",
       "      <td>+</td>\n",
       "      <td>Silent</td>\n",
       "      <td>SNP</td>\n",
       "      <td>G</td>\n",
       "      <td>...</td>\n",
       "      <td>NaN</td>\n",
       "      <td>NaN</td>\n",
       "      <td>84:28</td>\n",
       "      <td>90:33</td>\n",
       "      <td>57:46</td>\n",
       "      <td>NaN</td>\n",
       "      <td>NaN</td>\n",
       "      <td>29:12</td>\n",
       "      <td>silent</td>\n",
       "      <td>ACH-000665</td>\n",
       "    </tr>\n",
       "    <tr>\n",
       "      <th>1296236</th>\n",
       "      <td>ZZZ3</td>\n",
       "      <td>26009</td>\n",
       "      <td>37</td>\n",
       "      <td>1</td>\n",
       "      <td>78099022</td>\n",
       "      <td>78099022</td>\n",
       "      <td>+</td>\n",
       "      <td>Silent</td>\n",
       "      <td>SNP</td>\n",
       "      <td>A</td>\n",
       "      <td>...</td>\n",
       "      <td>NaN</td>\n",
       "      <td>NaN</td>\n",
       "      <td>31:29</td>\n",
       "      <td>26:29</td>\n",
       "      <td>24:29</td>\n",
       "      <td>NaN</td>\n",
       "      <td>NaN</td>\n",
       "      <td>NaN</td>\n",
       "      <td>silent</td>\n",
       "      <td>ACH-000978</td>\n",
       "    </tr>\n",
       "  </tbody>\n",
       "</table>\n",
       "<p>1296237 rows × 34 columns</p>\n",
       "</div>"
      ],
      "text/plain": [
       "        Hugo_Symbol  Entrez_Gene_Id  NCBI_Build Chromosome  Start_position  \\\n",
       "0              A1BG               1          37         19        58858743   \n",
       "1              A1BG               1          37         19        58858810   \n",
       "2              A1BG               1          37         19        58858867   \n",
       "3              A1BG               1          37         19        58858872   \n",
       "4              A1BG               1          37         19        58858914   \n",
       "...             ...             ...         ...        ...             ...   \n",
       "1296232        ZZZ3           26009          37          1        78098868   \n",
       "1296233        ZZZ3           26009          37          1        78098935   \n",
       "1296234        ZZZ3           26009          37          1        78098970   \n",
       "1296235        ZZZ3           26009          37          1        78098986   \n",
       "1296236        ZZZ3           26009          37          1        78099022   \n",
       "\n",
       "         End_position Strand Variant_Classification Variant_Type  \\\n",
       "0            58858743      +      Missense_Mutation          SNP   \n",
       "1            58858810      +                 Silent          SNP   \n",
       "2            58858867      +      Missense_Mutation          SNP   \n",
       "3            58858872      +      Missense_Mutation          SNP   \n",
       "4            58858914      +      Missense_Mutation          SNP   \n",
       "...               ...    ...                    ...          ...   \n",
       "1296232      78098868      +      Missense_Mutation          SNP   \n",
       "1296233      78098935      +                 Silent          SNP   \n",
       "1296234      78098970      +        Frame_Shift_Del          DEL   \n",
       "1296235      78098986      +                 Silent          SNP   \n",
       "1296236      78099022      +                 Silent          SNP   \n",
       "\n",
       "        Reference_Allele  ...   ExAC_AF CGA_WES_AC SangerWES_AC  \\\n",
       "0                      C  ...       NaN        NaN        20:16   \n",
       "1                      C  ...       NaN        NaN        10:21   \n",
       "2                      C  ...       NaN        NaN          4:9   \n",
       "3                      C  ...  0.000017        NaN          NaN   \n",
       "4                      C  ...  0.000008      27:20          NaN   \n",
       "...                  ...  ...       ...        ...          ...   \n",
       "1296232                G  ...       NaN        NaN       49:260   \n",
       "1296233                A  ...       NaN        NaN          NaN   \n",
       "1296234                A  ...       NaN        NaN         31:8   \n",
       "1296235                G  ...       NaN        NaN        84:28   \n",
       "1296236                A  ...       NaN        NaN        31:29   \n",
       "\n",
       "        SangerRecalibWES_AC RNAseq_AC HC_AC RD_AC WGS_AC  \\\n",
       "0                     20:16       NaN   NaN   NaN    NaN   \n",
       "1                     14:23     34:87   NaN   NaN  22:19   \n",
       "2                       4:9       NaN   NaN   NaN    NaN   \n",
       "3                       NaN       NaN   NaN   NaN   9:16   \n",
       "4                       NaN       NaN   NaN   NaN    NaN   \n",
       "...                     ...       ...   ...   ...    ...   \n",
       "1296232              48:248       NaN   NaN   NaN    NaN   \n",
       "1296233                 NaN      6:15   NaN   NaN    NaN   \n",
       "1296234               40:87     11:64   NaN   NaN   6:16   \n",
       "1296235               90:33     57:46   NaN   NaN  29:12   \n",
       "1296236               26:29     24:29   NaN   NaN    NaN   \n",
       "\n",
       "           Variant_annotation   DepMap_ID  \n",
       "0        other non-conserving  ACH-000986  \n",
       "1                      silent  ACH-000988  \n",
       "2        other non-conserving  ACH-002182  \n",
       "3        other non-conserving  ACH-000985  \n",
       "4        other non-conserving  ACH-001793  \n",
       "...                       ...         ...  \n",
       "1296232  other non-conserving  ACH-002280  \n",
       "1296233                silent  ACH-000992  \n",
       "1296234              damaging  ACH-000985  \n",
       "1296235                silent  ACH-000665  \n",
       "1296236                silent  ACH-000978  \n",
       "\n",
       "[1296237 rows x 34 columns]"
      ]
     },
     "execution_count": 7,
     "metadata": {},
     "output_type": "execute_result"
    }
   ],
   "source": [
    "mutation"
   ]
  },
  {
   "cell_type": "code",
   "execution_count": 8,
   "metadata": {
    "ExecuteTime": {
     "end_time": "2020-06-25T05:30:39.607534Z",
     "start_time": "2020-06-25T05:30:39.477310Z"
    }
   },
   "outputs": [],
   "source": [
    "mutation = mutation[mutation['Variant_annotation']=='damaging']"
   ]
  },
  {
   "cell_type": "code",
   "execution_count": 9,
   "metadata": {
    "ExecuteTime": {
     "end_time": "2020-06-25T05:30:39.681119Z",
     "start_time": "2020-06-25T05:30:39.609347Z"
    }
   },
   "outputs": [],
   "source": [
    "mutation_count = mutation.groupby(['DepMap_ID', 'Hugo_Symbol']).size().reset_index(name='count')"
   ]
  },
  {
   "cell_type": "code",
   "execution_count": 10,
   "metadata": {
    "ExecuteTime": {
     "end_time": "2020-06-25T05:30:40.428894Z",
     "start_time": "2020-06-25T05:30:39.683342Z"
    }
   },
   "outputs": [],
   "source": [
    "mutation_count = pd.pivot(mutation_count, index='DepMap_ID', columns='Hugo_Symbol').fillna(0)"
   ]
  },
  {
   "cell_type": "code",
   "execution_count": 11,
   "metadata": {
    "ExecuteTime": {
     "end_time": "2020-06-25T05:30:40.459882Z",
     "start_time": "2020-06-25T05:30:40.430460Z"
    }
   },
   "outputs": [
    {
     "data": {
      "text/html": [
       "<div>\n",
       "<style scoped>\n",
       "    .dataframe tbody tr th:only-of-type {\n",
       "        vertical-align: middle;\n",
       "    }\n",
       "\n",
       "    .dataframe tbody tr th {\n",
       "        vertical-align: top;\n",
       "    }\n",
       "\n",
       "    .dataframe thead tr th {\n",
       "        text-align: left;\n",
       "    }\n",
       "\n",
       "    .dataframe thead tr:last-of-type th {\n",
       "        text-align: right;\n",
       "    }\n",
       "</style>\n",
       "<table border=\"1\" class=\"dataframe\">\n",
       "  <thead>\n",
       "    <tr>\n",
       "      <th></th>\n",
       "      <th colspan=\"21\" halign=\"left\">count</th>\n",
       "    </tr>\n",
       "    <tr>\n",
       "      <th>Hugo_Symbol</th>\n",
       "      <th>A1BG</th>\n",
       "      <th>A1CF</th>\n",
       "      <th>A2M</th>\n",
       "      <th>A2ML1</th>\n",
       "      <th>A3GALT2</th>\n",
       "      <th>A4GALT</th>\n",
       "      <th>A4GNT</th>\n",
       "      <th>AAAS</th>\n",
       "      <th>AACS</th>\n",
       "      <th>AADAC</th>\n",
       "      <th>...</th>\n",
       "      <th>ZWINT</th>\n",
       "      <th>ZXDA</th>\n",
       "      <th>ZXDB</th>\n",
       "      <th>ZXDC</th>\n",
       "      <th>ZYG11A</th>\n",
       "      <th>ZYG11B</th>\n",
       "      <th>ZYX</th>\n",
       "      <th>ZZEF1</th>\n",
       "      <th>ZZZ3</th>\n",
       "      <th>hsa-mir-1199</th>\n",
       "    </tr>\n",
       "    <tr>\n",
       "      <th>DepMap_ID</th>\n",
       "      <th></th>\n",
       "      <th></th>\n",
       "      <th></th>\n",
       "      <th></th>\n",
       "      <th></th>\n",
       "      <th></th>\n",
       "      <th></th>\n",
       "      <th></th>\n",
       "      <th></th>\n",
       "      <th></th>\n",
       "      <th></th>\n",
       "      <th></th>\n",
       "      <th></th>\n",
       "      <th></th>\n",
       "      <th></th>\n",
       "      <th></th>\n",
       "      <th></th>\n",
       "      <th></th>\n",
       "      <th></th>\n",
       "      <th></th>\n",
       "      <th></th>\n",
       "    </tr>\n",
       "  </thead>\n",
       "  <tbody>\n",
       "    <tr>\n",
       "      <th>ACH-000001</th>\n",
       "      <td>0.0</td>\n",
       "      <td>0.0</td>\n",
       "      <td>0.0</td>\n",
       "      <td>0.0</td>\n",
       "      <td>0.0</td>\n",
       "      <td>0.0</td>\n",
       "      <td>0.0</td>\n",
       "      <td>1.0</td>\n",
       "      <td>0.0</td>\n",
       "      <td>0.0</td>\n",
       "      <td>...</td>\n",
       "      <td>0.0</td>\n",
       "      <td>0.0</td>\n",
       "      <td>0.0</td>\n",
       "      <td>0.0</td>\n",
       "      <td>0.0</td>\n",
       "      <td>0.0</td>\n",
       "      <td>0.0</td>\n",
       "      <td>0.0</td>\n",
       "      <td>0.0</td>\n",
       "      <td>0.0</td>\n",
       "    </tr>\n",
       "    <tr>\n",
       "      <th>ACH-000002</th>\n",
       "      <td>0.0</td>\n",
       "      <td>0.0</td>\n",
       "      <td>0.0</td>\n",
       "      <td>0.0</td>\n",
       "      <td>0.0</td>\n",
       "      <td>0.0</td>\n",
       "      <td>0.0</td>\n",
       "      <td>0.0</td>\n",
       "      <td>0.0</td>\n",
       "      <td>0.0</td>\n",
       "      <td>...</td>\n",
       "      <td>1.0</td>\n",
       "      <td>0.0</td>\n",
       "      <td>0.0</td>\n",
       "      <td>0.0</td>\n",
       "      <td>0.0</td>\n",
       "      <td>0.0</td>\n",
       "      <td>0.0</td>\n",
       "      <td>0.0</td>\n",
       "      <td>0.0</td>\n",
       "      <td>0.0</td>\n",
       "    </tr>\n",
       "    <tr>\n",
       "      <th>ACH-000003</th>\n",
       "      <td>0.0</td>\n",
       "      <td>0.0</td>\n",
       "      <td>0.0</td>\n",
       "      <td>0.0</td>\n",
       "      <td>0.0</td>\n",
       "      <td>0.0</td>\n",
       "      <td>0.0</td>\n",
       "      <td>0.0</td>\n",
       "      <td>0.0</td>\n",
       "      <td>0.0</td>\n",
       "      <td>...</td>\n",
       "      <td>0.0</td>\n",
       "      <td>0.0</td>\n",
       "      <td>0.0</td>\n",
       "      <td>0.0</td>\n",
       "      <td>0.0</td>\n",
       "      <td>0.0</td>\n",
       "      <td>0.0</td>\n",
       "      <td>0.0</td>\n",
       "      <td>0.0</td>\n",
       "      <td>0.0</td>\n",
       "    </tr>\n",
       "    <tr>\n",
       "      <th>ACH-000004</th>\n",
       "      <td>0.0</td>\n",
       "      <td>0.0</td>\n",
       "      <td>0.0</td>\n",
       "      <td>0.0</td>\n",
       "      <td>0.0</td>\n",
       "      <td>0.0</td>\n",
       "      <td>0.0</td>\n",
       "      <td>0.0</td>\n",
       "      <td>0.0</td>\n",
       "      <td>0.0</td>\n",
       "      <td>...</td>\n",
       "      <td>0.0</td>\n",
       "      <td>0.0</td>\n",
       "      <td>0.0</td>\n",
       "      <td>0.0</td>\n",
       "      <td>0.0</td>\n",
       "      <td>0.0</td>\n",
       "      <td>0.0</td>\n",
       "      <td>0.0</td>\n",
       "      <td>0.0</td>\n",
       "      <td>0.0</td>\n",
       "    </tr>\n",
       "    <tr>\n",
       "      <th>ACH-000005</th>\n",
       "      <td>0.0</td>\n",
       "      <td>0.0</td>\n",
       "      <td>0.0</td>\n",
       "      <td>0.0</td>\n",
       "      <td>0.0</td>\n",
       "      <td>0.0</td>\n",
       "      <td>0.0</td>\n",
       "      <td>0.0</td>\n",
       "      <td>0.0</td>\n",
       "      <td>0.0</td>\n",
       "      <td>...</td>\n",
       "      <td>0.0</td>\n",
       "      <td>0.0</td>\n",
       "      <td>0.0</td>\n",
       "      <td>0.0</td>\n",
       "      <td>0.0</td>\n",
       "      <td>0.0</td>\n",
       "      <td>0.0</td>\n",
       "      <td>0.0</td>\n",
       "      <td>0.0</td>\n",
       "      <td>0.0</td>\n",
       "    </tr>\n",
       "    <tr>\n",
       "      <th>...</th>\n",
       "      <td>...</td>\n",
       "      <td>...</td>\n",
       "      <td>...</td>\n",
       "      <td>...</td>\n",
       "      <td>...</td>\n",
       "      <td>...</td>\n",
       "      <td>...</td>\n",
       "      <td>...</td>\n",
       "      <td>...</td>\n",
       "      <td>...</td>\n",
       "      <td>...</td>\n",
       "      <td>...</td>\n",
       "      <td>...</td>\n",
       "      <td>...</td>\n",
       "      <td>...</td>\n",
       "      <td>...</td>\n",
       "      <td>...</td>\n",
       "      <td>...</td>\n",
       "      <td>...</td>\n",
       "      <td>...</td>\n",
       "      <td>...</td>\n",
       "    </tr>\n",
       "    <tr>\n",
       "      <th>ACH-002475</th>\n",
       "      <td>0.0</td>\n",
       "      <td>0.0</td>\n",
       "      <td>0.0</td>\n",
       "      <td>0.0</td>\n",
       "      <td>0.0</td>\n",
       "      <td>0.0</td>\n",
       "      <td>0.0</td>\n",
       "      <td>0.0</td>\n",
       "      <td>0.0</td>\n",
       "      <td>0.0</td>\n",
       "      <td>...</td>\n",
       "      <td>0.0</td>\n",
       "      <td>0.0</td>\n",
       "      <td>0.0</td>\n",
       "      <td>0.0</td>\n",
       "      <td>0.0</td>\n",
       "      <td>0.0</td>\n",
       "      <td>0.0</td>\n",
       "      <td>0.0</td>\n",
       "      <td>0.0</td>\n",
       "      <td>0.0</td>\n",
       "    </tr>\n",
       "    <tr>\n",
       "      <th>ACH-002508</th>\n",
       "      <td>0.0</td>\n",
       "      <td>0.0</td>\n",
       "      <td>0.0</td>\n",
       "      <td>0.0</td>\n",
       "      <td>0.0</td>\n",
       "      <td>0.0</td>\n",
       "      <td>0.0</td>\n",
       "      <td>0.0</td>\n",
       "      <td>0.0</td>\n",
       "      <td>0.0</td>\n",
       "      <td>...</td>\n",
       "      <td>0.0</td>\n",
       "      <td>0.0</td>\n",
       "      <td>0.0</td>\n",
       "      <td>0.0</td>\n",
       "      <td>0.0</td>\n",
       "      <td>0.0</td>\n",
       "      <td>0.0</td>\n",
       "      <td>0.0</td>\n",
       "      <td>0.0</td>\n",
       "      <td>0.0</td>\n",
       "    </tr>\n",
       "    <tr>\n",
       "      <th>ACH-002509</th>\n",
       "      <td>0.0</td>\n",
       "      <td>0.0</td>\n",
       "      <td>0.0</td>\n",
       "      <td>0.0</td>\n",
       "      <td>0.0</td>\n",
       "      <td>0.0</td>\n",
       "      <td>0.0</td>\n",
       "      <td>0.0</td>\n",
       "      <td>0.0</td>\n",
       "      <td>0.0</td>\n",
       "      <td>...</td>\n",
       "      <td>0.0</td>\n",
       "      <td>0.0</td>\n",
       "      <td>0.0</td>\n",
       "      <td>0.0</td>\n",
       "      <td>0.0</td>\n",
       "      <td>0.0</td>\n",
       "      <td>0.0</td>\n",
       "      <td>0.0</td>\n",
       "      <td>0.0</td>\n",
       "      <td>0.0</td>\n",
       "    </tr>\n",
       "    <tr>\n",
       "      <th>ACH-002510</th>\n",
       "      <td>0.0</td>\n",
       "      <td>0.0</td>\n",
       "      <td>0.0</td>\n",
       "      <td>0.0</td>\n",
       "      <td>0.0</td>\n",
       "      <td>0.0</td>\n",
       "      <td>0.0</td>\n",
       "      <td>0.0</td>\n",
       "      <td>0.0</td>\n",
       "      <td>0.0</td>\n",
       "      <td>...</td>\n",
       "      <td>0.0</td>\n",
       "      <td>0.0</td>\n",
       "      <td>0.0</td>\n",
       "      <td>0.0</td>\n",
       "      <td>0.0</td>\n",
       "      <td>0.0</td>\n",
       "      <td>0.0</td>\n",
       "      <td>0.0</td>\n",
       "      <td>0.0</td>\n",
       "      <td>0.0</td>\n",
       "    </tr>\n",
       "    <tr>\n",
       "      <th>ACH-002511</th>\n",
       "      <td>0.0</td>\n",
       "      <td>0.0</td>\n",
       "      <td>0.0</td>\n",
       "      <td>1.0</td>\n",
       "      <td>0.0</td>\n",
       "      <td>0.0</td>\n",
       "      <td>0.0</td>\n",
       "      <td>0.0</td>\n",
       "      <td>0.0</td>\n",
       "      <td>0.0</td>\n",
       "      <td>...</td>\n",
       "      <td>0.0</td>\n",
       "      <td>0.0</td>\n",
       "      <td>0.0</td>\n",
       "      <td>0.0</td>\n",
       "      <td>0.0</td>\n",
       "      <td>0.0</td>\n",
       "      <td>0.0</td>\n",
       "      <td>0.0</td>\n",
       "      <td>0.0</td>\n",
       "      <td>0.0</td>\n",
       "    </tr>\n",
       "  </tbody>\n",
       "</table>\n",
       "<p>1740 rows × 18091 columns</p>\n",
       "</div>"
      ],
      "text/plain": [
       "            count                                                       ...  \\\n",
       "Hugo_Symbol  A1BG A1CF  A2M A2ML1 A3GALT2 A4GALT A4GNT AAAS AACS AADAC  ...   \n",
       "DepMap_ID                                                               ...   \n",
       "ACH-000001    0.0  0.0  0.0   0.0     0.0    0.0   0.0  1.0  0.0   0.0  ...   \n",
       "ACH-000002    0.0  0.0  0.0   0.0     0.0    0.0   0.0  0.0  0.0   0.0  ...   \n",
       "ACH-000003    0.0  0.0  0.0   0.0     0.0    0.0   0.0  0.0  0.0   0.0  ...   \n",
       "ACH-000004    0.0  0.0  0.0   0.0     0.0    0.0   0.0  0.0  0.0   0.0  ...   \n",
       "ACH-000005    0.0  0.0  0.0   0.0     0.0    0.0   0.0  0.0  0.0   0.0  ...   \n",
       "...           ...  ...  ...   ...     ...    ...   ...  ...  ...   ...  ...   \n",
       "ACH-002475    0.0  0.0  0.0   0.0     0.0    0.0   0.0  0.0  0.0   0.0  ...   \n",
       "ACH-002508    0.0  0.0  0.0   0.0     0.0    0.0   0.0  0.0  0.0   0.0  ...   \n",
       "ACH-002509    0.0  0.0  0.0   0.0     0.0    0.0   0.0  0.0  0.0   0.0  ...   \n",
       "ACH-002510    0.0  0.0  0.0   0.0     0.0    0.0   0.0  0.0  0.0   0.0  ...   \n",
       "ACH-002511    0.0  0.0  0.0   1.0     0.0    0.0   0.0  0.0  0.0   0.0  ...   \n",
       "\n",
       "                                                                             \n",
       "Hugo_Symbol ZWINT ZXDA ZXDB ZXDC ZYG11A ZYG11B  ZYX ZZEF1 ZZZ3 hsa-mir-1199  \n",
       "DepMap_ID                                                                    \n",
       "ACH-000001    0.0  0.0  0.0  0.0    0.0    0.0  0.0   0.0  0.0          0.0  \n",
       "ACH-000002    1.0  0.0  0.0  0.0    0.0    0.0  0.0   0.0  0.0          0.0  \n",
       "ACH-000003    0.0  0.0  0.0  0.0    0.0    0.0  0.0   0.0  0.0          0.0  \n",
       "ACH-000004    0.0  0.0  0.0  0.0    0.0    0.0  0.0   0.0  0.0          0.0  \n",
       "ACH-000005    0.0  0.0  0.0  0.0    0.0    0.0  0.0   0.0  0.0          0.0  \n",
       "...           ...  ...  ...  ...    ...    ...  ...   ...  ...          ...  \n",
       "ACH-002475    0.0  0.0  0.0  0.0    0.0    0.0  0.0   0.0  0.0          0.0  \n",
       "ACH-002508    0.0  0.0  0.0  0.0    0.0    0.0  0.0   0.0  0.0          0.0  \n",
       "ACH-002509    0.0  0.0  0.0  0.0    0.0    0.0  0.0   0.0  0.0          0.0  \n",
       "ACH-002510    0.0  0.0  0.0  0.0    0.0    0.0  0.0   0.0  0.0          0.0  \n",
       "ACH-002511    0.0  0.0  0.0  0.0    0.0    0.0  0.0   0.0  0.0          0.0  \n",
       "\n",
       "[1740 rows x 18091 columns]"
      ]
     },
     "execution_count": 11,
     "metadata": {},
     "output_type": "execute_result"
    }
   ],
   "source": [
    "mutation_count"
   ]
  },
  {
   "cell_type": "code",
   "execution_count": 12,
   "metadata": {
    "ExecuteTime": {
     "end_time": "2020-06-25T05:30:44.037866Z",
     "start_time": "2020-06-25T05:30:44.009961Z"
    }
   },
   "outputs": [],
   "source": [
    "mutation_count.columns = [x[1] for x in mutation_count.columns]"
   ]
  },
  {
   "cell_type": "code",
   "execution_count": 14,
   "metadata": {
    "ExecuteTime": {
     "end_time": "2020-06-25T05:30:55.654743Z",
     "start_time": "2020-06-25T05:30:55.594893Z"
    }
   },
   "outputs": [],
   "source": [
    "mutation_count = mutation_count.sort_values(by='DepMap_ID')"
   ]
  },
  {
   "cell_type": "code",
   "execution_count": 16,
   "metadata": {
    "ExecuteTime": {
     "end_time": "2020-06-25T12:28:30.292233Z",
     "start_time": "2020-06-25T12:28:02.488638Z"
    }
   },
   "outputs": [],
   "source": [
    "mutation_count.to_pickle(\"../data/CCLE_mutations_processed.pkl\")\n",
    "mutation_count.to_csv(\"../data/CCLE_mutations_processed.csv\")"
   ]
  },
  {
   "cell_type": "markdown",
   "metadata": {},
   "source": [
    "# copy number"
   ]
  },
  {
   "cell_type": "code",
   "execution_count": 18,
   "metadata": {
    "ExecuteTime": {
     "end_time": "2020-06-25T12:29:34.280887Z",
     "start_time": "2020-06-25T12:28:58.152938Z"
    }
   },
   "outputs": [],
   "source": [
    "cnv = pd.read_csv(\"../data/CCLE_gene_cn.csv\", index_col=0)"
   ]
  },
  {
   "cell_type": "code",
   "execution_count": 19,
   "metadata": {
    "ExecuteTime": {
     "end_time": "2020-06-25T12:29:34.285641Z",
     "start_time": "2020-06-25T12:29:34.283081Z"
    }
   },
   "outputs": [],
   "source": [
    "cnv.index.name = 'DepMap_ID'"
   ]
  },
  {
   "cell_type": "code",
   "execution_count": 20,
   "metadata": {
    "ExecuteTime": {
     "end_time": "2020-06-25T12:29:34.291780Z",
     "start_time": "2020-06-25T12:29:34.288462Z"
    }
   },
   "outputs": [
    {
     "data": {
      "text/plain": [
       "(1745, 27639)"
      ]
     },
     "execution_count": 20,
     "metadata": {},
     "output_type": "execute_result"
    }
   ],
   "source": [
    "cnv.shape"
   ]
  },
  {
   "cell_type": "code",
   "execution_count": 21,
   "metadata": {
    "ExecuteTime": {
     "end_time": "2020-06-25T12:29:34.744193Z",
     "start_time": "2020-06-25T12:29:34.293931Z"
    }
   },
   "outputs": [],
   "source": [
    "cnv.columns = [x.split(' ')[0] for x in cnv.columns]\n",
    "\n",
    "cnv = cnv[sorted(cnv.columns)]\n",
    "cnv = cnv.sort_values(by='DepMap_ID')"
   ]
  },
  {
   "cell_type": "code",
   "execution_count": 22,
   "metadata": {
    "ExecuteTime": {
     "end_time": "2020-06-25T12:29:34.769485Z",
     "start_time": "2020-06-25T12:29:34.746134Z"
    }
   },
   "outputs": [
    {
     "data": {
      "text/html": [
       "<div>\n",
       "<style scoped>\n",
       "    .dataframe tbody tr th:only-of-type {\n",
       "        vertical-align: middle;\n",
       "    }\n",
       "\n",
       "    .dataframe tbody tr th {\n",
       "        vertical-align: top;\n",
       "    }\n",
       "\n",
       "    .dataframe thead th {\n",
       "        text-align: right;\n",
       "    }\n",
       "</style>\n",
       "<table border=\"1\" class=\"dataframe\">\n",
       "  <thead>\n",
       "    <tr style=\"text-align: right;\">\n",
       "      <th></th>\n",
       "      <th>A1BG</th>\n",
       "      <th>A1BG-AS1</th>\n",
       "      <th>A1CF</th>\n",
       "      <th>A2M</th>\n",
       "      <th>A2M-AS1</th>\n",
       "      <th>A2ML1</th>\n",
       "      <th>A2MP1</th>\n",
       "      <th>A3GALT2</th>\n",
       "      <th>A4GALT</th>\n",
       "      <th>A4GNT</th>\n",
       "      <th>...</th>\n",
       "      <th>ZWILCH</th>\n",
       "      <th>ZWINT</th>\n",
       "      <th>ZXDA</th>\n",
       "      <th>ZXDB</th>\n",
       "      <th>ZXDC</th>\n",
       "      <th>ZYG11A</th>\n",
       "      <th>ZYG11B</th>\n",
       "      <th>ZYX</th>\n",
       "      <th>ZZEF1</th>\n",
       "      <th>ZZZ3</th>\n",
       "    </tr>\n",
       "    <tr>\n",
       "      <th>DepMap_ID</th>\n",
       "      <th></th>\n",
       "      <th></th>\n",
       "      <th></th>\n",
       "      <th></th>\n",
       "      <th></th>\n",
       "      <th></th>\n",
       "      <th></th>\n",
       "      <th></th>\n",
       "      <th></th>\n",
       "      <th></th>\n",
       "      <th></th>\n",
       "      <th></th>\n",
       "      <th></th>\n",
       "      <th></th>\n",
       "      <th></th>\n",
       "      <th></th>\n",
       "      <th></th>\n",
       "      <th></th>\n",
       "      <th></th>\n",
       "      <th></th>\n",
       "      <th></th>\n",
       "    </tr>\n",
       "  </thead>\n",
       "  <tbody>\n",
       "    <tr>\n",
       "      <th>ACH-000001</th>\n",
       "      <td>1.179621</td>\n",
       "      <td>1.179621</td>\n",
       "      <td>1.023685</td>\n",
       "      <td>0.994558</td>\n",
       "      <td>0.994558</td>\n",
       "      <td>0.994558</td>\n",
       "      <td>0.994558</td>\n",
       "      <td>1.010566</td>\n",
       "      <td>0.747249</td>\n",
       "      <td>1.383510</td>\n",
       "      <td>...</td>\n",
       "      <td>0.980463</td>\n",
       "      <td>1.023685</td>\n",
       "      <td>1.382566</td>\n",
       "      <td>1.382566</td>\n",
       "      <td>1.383510</td>\n",
       "      <td>1.211039</td>\n",
       "      <td>1.004519</td>\n",
       "      <td>1.043793</td>\n",
       "      <td>0.742698</td>\n",
       "      <td>1.015579</td>\n",
       "    </tr>\n",
       "    <tr>\n",
       "      <th>ACH-000002</th>\n",
       "      <td>1.009801</td>\n",
       "      <td>1.009801</td>\n",
       "      <td>1.001982</td>\n",
       "      <td>0.994210</td>\n",
       "      <td>0.994210</td>\n",
       "      <td>0.994210</td>\n",
       "      <td>0.994210</td>\n",
       "      <td>1.009073</td>\n",
       "      <td>1.022060</td>\n",
       "      <td>1.008385</td>\n",
       "      <td>...</td>\n",
       "      <td>0.986230</td>\n",
       "      <td>1.001982</td>\n",
       "      <td>0.611316</td>\n",
       "      <td>0.611316</td>\n",
       "      <td>1.008385</td>\n",
       "      <td>1.009073</td>\n",
       "      <td>1.009073</td>\n",
       "      <td>1.004020</td>\n",
       "      <td>0.600141</td>\n",
       "      <td>1.009073</td>\n",
       "    </tr>\n",
       "    <tr>\n",
       "      <th>ACH-000003</th>\n",
       "      <td>1.022828</td>\n",
       "      <td>1.022828</td>\n",
       "      <td>1.491543</td>\n",
       "      <td>1.190245</td>\n",
       "      <td>1.190245</td>\n",
       "      <td>1.190245</td>\n",
       "      <td>1.190245</td>\n",
       "      <td>0.669477</td>\n",
       "      <td>0.244061</td>\n",
       "      <td>0.976003</td>\n",
       "      <td>...</td>\n",
       "      <td>0.870673</td>\n",
       "      <td>1.459269</td>\n",
       "      <td>1.006063</td>\n",
       "      <td>1.006063</td>\n",
       "      <td>0.959388</td>\n",
       "      <td>0.820131</td>\n",
       "      <td>0.820131</td>\n",
       "      <td>1.138358</td>\n",
       "      <td>0.649156</td>\n",
       "      <td>0.680199</td>\n",
       "    </tr>\n",
       "    <tr>\n",
       "      <th>ACH-000004</th>\n",
       "      <td>1.232225</td>\n",
       "      <td>1.232225</td>\n",
       "      <td>0.836688</td>\n",
       "      <td>1.059946</td>\n",
       "      <td>1.059946</td>\n",
       "      <td>1.059946</td>\n",
       "      <td>1.059946</td>\n",
       "      <td>1.269446</td>\n",
       "      <td>0.822388</td>\n",
       "      <td>1.080898</td>\n",
       "      <td>...</td>\n",
       "      <td>1.070859</td>\n",
       "      <td>0.813560</td>\n",
       "      <td>1.018872</td>\n",
       "      <td>1.018872</td>\n",
       "      <td>1.084012</td>\n",
       "      <td>1.268977</td>\n",
       "      <td>1.268977</td>\n",
       "      <td>1.119363</td>\n",
       "      <td>0.836160</td>\n",
       "      <td>1.276832</td>\n",
       "    </tr>\n",
       "    <tr>\n",
       "      <th>ACH-000005</th>\n",
       "      <td>1.151880</td>\n",
       "      <td>1.151880</td>\n",
       "      <td>0.814678</td>\n",
       "      <td>1.126038</td>\n",
       "      <td>1.126038</td>\n",
       "      <td>1.126038</td>\n",
       "      <td>1.126038</td>\n",
       "      <td>1.337045</td>\n",
       "      <td>0.812665</td>\n",
       "      <td>1.101039</td>\n",
       "      <td>...</td>\n",
       "      <td>1.115492</td>\n",
       "      <td>0.814678</td>\n",
       "      <td>0.523496</td>\n",
       "      <td>0.523496</td>\n",
       "      <td>1.101039</td>\n",
       "      <td>1.337045</td>\n",
       "      <td>1.337045</td>\n",
       "      <td>0.840967</td>\n",
       "      <td>0.818548</td>\n",
       "      <td>1.337045</td>\n",
       "    </tr>\n",
       "  </tbody>\n",
       "</table>\n",
       "<p>5 rows × 27639 columns</p>\n",
       "</div>"
      ],
      "text/plain": [
       "                A1BG  A1BG-AS1      A1CF       A2M   A2M-AS1     A2ML1  \\\n",
       "DepMap_ID                                                                \n",
       "ACH-000001  1.179621  1.179621  1.023685  0.994558  0.994558  0.994558   \n",
       "ACH-000002  1.009801  1.009801  1.001982  0.994210  0.994210  0.994210   \n",
       "ACH-000003  1.022828  1.022828  1.491543  1.190245  1.190245  1.190245   \n",
       "ACH-000004  1.232225  1.232225  0.836688  1.059946  1.059946  1.059946   \n",
       "ACH-000005  1.151880  1.151880  0.814678  1.126038  1.126038  1.126038   \n",
       "\n",
       "               A2MP1   A3GALT2    A4GALT     A4GNT  ...    ZWILCH     ZWINT  \\\n",
       "DepMap_ID                                           ...                       \n",
       "ACH-000001  0.994558  1.010566  0.747249  1.383510  ...  0.980463  1.023685   \n",
       "ACH-000002  0.994210  1.009073  1.022060  1.008385  ...  0.986230  1.001982   \n",
       "ACH-000003  1.190245  0.669477  0.244061  0.976003  ...  0.870673  1.459269   \n",
       "ACH-000004  1.059946  1.269446  0.822388  1.080898  ...  1.070859  0.813560   \n",
       "ACH-000005  1.126038  1.337045  0.812665  1.101039  ...  1.115492  0.814678   \n",
       "\n",
       "                ZXDA      ZXDB      ZXDC    ZYG11A    ZYG11B       ZYX  \\\n",
       "DepMap_ID                                                                \n",
       "ACH-000001  1.382566  1.382566  1.383510  1.211039  1.004519  1.043793   \n",
       "ACH-000002  0.611316  0.611316  1.008385  1.009073  1.009073  1.004020   \n",
       "ACH-000003  1.006063  1.006063  0.959388  0.820131  0.820131  1.138358   \n",
       "ACH-000004  1.018872  1.018872  1.084012  1.268977  1.268977  1.119363   \n",
       "ACH-000005  0.523496  0.523496  1.101039  1.337045  1.337045  0.840967   \n",
       "\n",
       "               ZZEF1      ZZZ3  \n",
       "DepMap_ID                       \n",
       "ACH-000001  0.742698  1.015579  \n",
       "ACH-000002  0.600141  1.009073  \n",
       "ACH-000003  0.649156  0.680199  \n",
       "ACH-000004  0.836160  1.276832  \n",
       "ACH-000005  0.818548  1.337045  \n",
       "\n",
       "[5 rows x 27639 columns]"
      ]
     },
     "execution_count": 22,
     "metadata": {},
     "output_type": "execute_result"
    }
   ],
   "source": [
    "cnv.head()"
   ]
  },
  {
   "cell_type": "code",
   "execution_count": 19,
   "metadata": {
    "ExecuteTime": {
     "end_time": "2020-06-04T06:58:53.565364Z",
     "start_time": "2020-06-04T06:58:53.248430Z"
    }
   },
   "outputs": [],
   "source": [
    "cnv.to_pickle(\"../data/CCLE_CN_processed.pkl\")\n"
   ]
  },
  {
   "cell_type": "code",
   "execution_count": 23,
   "metadata": {
    "ExecuteTime": {
     "end_time": "2020-06-25T12:31:05.079997Z",
     "start_time": "2020-06-25T12:29:34.771426Z"
    }
   },
   "outputs": [],
   "source": [
    "cnv.round(6).to_csv(\"../data/CCLE_CN_processed.csv\")"
   ]
  },
  {
   "cell_type": "markdown",
   "metadata": {},
   "source": [
    "# RNA"
   ]
  },
  {
   "cell_type": "code",
   "execution_count": 25,
   "metadata": {
    "ExecuteTime": {
     "end_time": "2020-06-25T12:31:29.372167Z",
     "start_time": "2020-06-25T12:31:11.915760Z"
    }
   },
   "outputs": [],
   "source": [
    "rna = pd.read_csv(\"../data/CCLE_expression.csv\", sep='\\t', index_col=0)"
   ]
  },
  {
   "cell_type": "code",
   "execution_count": 26,
   "metadata": {
    "ExecuteTime": {
     "end_time": "2020-06-25T12:31:29.377702Z",
     "start_time": "2020-06-25T12:31:29.374154Z"
    }
   },
   "outputs": [],
   "source": [
    "rna.index.name = 'DepMap_ID'"
   ]
  },
  {
   "cell_type": "code",
   "execution_count": 27,
   "metadata": {
    "ExecuteTime": {
     "end_time": "2020-06-25T12:31:29.384511Z",
     "start_time": "2020-06-25T12:31:29.380598Z"
    }
   },
   "outputs": [
    {
     "data": {
      "text/plain": [
       "(1304, 19144)"
      ]
     },
     "execution_count": 27,
     "metadata": {},
     "output_type": "execute_result"
    }
   ],
   "source": [
    "rna.shape"
   ]
  },
  {
   "cell_type": "code",
   "execution_count": 28,
   "metadata": {
    "ExecuteTime": {
     "end_time": "2020-06-25T12:31:29.620460Z",
     "start_time": "2020-06-25T12:31:29.388603Z"
    }
   },
   "outputs": [],
   "source": [
    "rna.columns = [x.split(' ')[0] for x in rna.columns]\n",
    "\n",
    "rna = rna[sorted(rna.columns)]\n",
    "rna = rna.sort_values(by='DepMap_ID')"
   ]
  },
  {
   "cell_type": "code",
   "execution_count": 29,
   "metadata": {
    "ExecuteTime": {
     "end_time": "2020-06-25T12:31:29.647463Z",
     "start_time": "2020-06-25T12:31:29.622877Z"
    }
   },
   "outputs": [
    {
     "data": {
      "text/html": [
       "<div>\n",
       "<style scoped>\n",
       "    .dataframe tbody tr th:only-of-type {\n",
       "        vertical-align: middle;\n",
       "    }\n",
       "\n",
       "    .dataframe tbody tr th {\n",
       "        vertical-align: top;\n",
       "    }\n",
       "\n",
       "    .dataframe thead th {\n",
       "        text-align: right;\n",
       "    }\n",
       "</style>\n",
       "<table border=\"1\" class=\"dataframe\">\n",
       "  <thead>\n",
       "    <tr style=\"text-align: right;\">\n",
       "      <th></th>\n",
       "      <th>A1BG</th>\n",
       "      <th>A1CF</th>\n",
       "      <th>A2M</th>\n",
       "      <th>A2ML1</th>\n",
       "      <th>A3GALT2</th>\n",
       "      <th>A4GALT</th>\n",
       "      <th>A4GNT</th>\n",
       "      <th>AAAS</th>\n",
       "      <th>AACS</th>\n",
       "      <th>AADAC</th>\n",
       "      <th>...</th>\n",
       "      <th>ZWILCH</th>\n",
       "      <th>ZWINT</th>\n",
       "      <th>ZXDA</th>\n",
       "      <th>ZXDB</th>\n",
       "      <th>ZXDC</th>\n",
       "      <th>ZYG11A</th>\n",
       "      <th>ZYG11B</th>\n",
       "      <th>ZYX</th>\n",
       "      <th>ZZEF1</th>\n",
       "      <th>ZZZ3</th>\n",
       "    </tr>\n",
       "    <tr>\n",
       "      <th>DepMap_ID</th>\n",
       "      <th></th>\n",
       "      <th></th>\n",
       "      <th></th>\n",
       "      <th></th>\n",
       "      <th></th>\n",
       "      <th></th>\n",
       "      <th></th>\n",
       "      <th></th>\n",
       "      <th></th>\n",
       "      <th></th>\n",
       "      <th></th>\n",
       "      <th></th>\n",
       "      <th></th>\n",
       "      <th></th>\n",
       "      <th></th>\n",
       "      <th></th>\n",
       "      <th></th>\n",
       "      <th></th>\n",
       "      <th></th>\n",
       "      <th></th>\n",
       "      <th></th>\n",
       "    </tr>\n",
       "  </thead>\n",
       "  <tbody>\n",
       "    <tr>\n",
       "      <th>ACH-000001</th>\n",
       "      <td>3.122673</td>\n",
       "      <td>0.056584</td>\n",
       "      <td>0.250962</td>\n",
       "      <td>0.111031</td>\n",
       "      <td>0.000000</td>\n",
       "      <td>1.035624</td>\n",
       "      <td>0.176323</td>\n",
       "      <td>5.845741</td>\n",
       "      <td>4.125155</td>\n",
       "      <td>0.815575</td>\n",
       "      <td>...</td>\n",
       "      <td>5.049631</td>\n",
       "      <td>6.695715</td>\n",
       "      <td>0.948601</td>\n",
       "      <td>1.839960</td>\n",
       "      <td>4.696550</td>\n",
       "      <td>3.273516</td>\n",
       "      <td>2.811471</td>\n",
       "      <td>6.825786</td>\n",
       "      <td>3.005400</td>\n",
       "      <td>4.710393</td>\n",
       "    </tr>\n",
       "    <tr>\n",
       "      <th>ACH-000002</th>\n",
       "      <td>1.416840</td>\n",
       "      <td>0.000000</td>\n",
       "      <td>0.286881</td>\n",
       "      <td>0.111031</td>\n",
       "      <td>0.000000</td>\n",
       "      <td>0.150560</td>\n",
       "      <td>0.000000</td>\n",
       "      <td>5.221877</td>\n",
       "      <td>1.967169</td>\n",
       "      <td>0.000000</td>\n",
       "      <td>...</td>\n",
       "      <td>3.176323</td>\n",
       "      <td>6.398487</td>\n",
       "      <td>0.056584</td>\n",
       "      <td>0.963474</td>\n",
       "      <td>3.951401</td>\n",
       "      <td>0.000000</td>\n",
       "      <td>1.090853</td>\n",
       "      <td>6.019924</td>\n",
       "      <td>2.195348</td>\n",
       "      <td>3.363171</td>\n",
       "    </tr>\n",
       "    <tr>\n",
       "      <th>ACH-000003</th>\n",
       "      <td>1.400538</td>\n",
       "      <td>4.335569</td>\n",
       "      <td>0.321928</td>\n",
       "      <td>0.150560</td>\n",
       "      <td>0.000000</td>\n",
       "      <td>4.207893</td>\n",
       "      <td>0.097611</td>\n",
       "      <td>5.332350</td>\n",
       "      <td>3.931683</td>\n",
       "      <td>1.827819</td>\n",
       "      <td>...</td>\n",
       "      <td>3.931683</td>\n",
       "      <td>7.555049</td>\n",
       "      <td>0.443607</td>\n",
       "      <td>1.475085</td>\n",
       "      <td>2.841973</td>\n",
       "      <td>0.695994</td>\n",
       "      <td>2.321928</td>\n",
       "      <td>7.326340</td>\n",
       "      <td>2.643856</td>\n",
       "      <td>2.961623</td>\n",
       "    </tr>\n",
       "    <tr>\n",
       "      <th>ACH-000004</th>\n",
       "      <td>4.180307</td>\n",
       "      <td>0.000000</td>\n",
       "      <td>0.286881</td>\n",
       "      <td>0.344828</td>\n",
       "      <td>0.070389</td>\n",
       "      <td>0.097611</td>\n",
       "      <td>0.000000</td>\n",
       "      <td>6.430620</td>\n",
       "      <td>3.212569</td>\n",
       "      <td>0.000000</td>\n",
       "      <td>...</td>\n",
       "      <td>4.242603</td>\n",
       "      <td>6.119356</td>\n",
       "      <td>0.765535</td>\n",
       "      <td>1.545968</td>\n",
       "      <td>3.617063</td>\n",
       "      <td>0.014355</td>\n",
       "      <td>2.070389</td>\n",
       "      <td>7.036503</td>\n",
       "      <td>3.436961</td>\n",
       "      <td>5.269407</td>\n",
       "    </tr>\n",
       "    <tr>\n",
       "      <th>ACH-000005</th>\n",
       "      <td>4.023255</td>\n",
       "      <td>0.014355</td>\n",
       "      <td>0.226509</td>\n",
       "      <td>0.014355</td>\n",
       "      <td>0.000000</td>\n",
       "      <td>0.028569</td>\n",
       "      <td>0.000000</td>\n",
       "      <td>6.397461</td>\n",
       "      <td>3.773996</td>\n",
       "      <td>0.000000</td>\n",
       "      <td>...</td>\n",
       "      <td>5.603181</td>\n",
       "      <td>6.825531</td>\n",
       "      <td>0.765535</td>\n",
       "      <td>1.704872</td>\n",
       "      <td>3.775051</td>\n",
       "      <td>0.014355</td>\n",
       "      <td>2.797013</td>\n",
       "      <td>6.863319</td>\n",
       "      <td>3.524816</td>\n",
       "      <td>5.982994</td>\n",
       "    </tr>\n",
       "  </tbody>\n",
       "</table>\n",
       "<p>5 rows × 19144 columns</p>\n",
       "</div>"
      ],
      "text/plain": [
       "                A1BG      A1CF       A2M     A2ML1   A3GALT2    A4GALT  \\\n",
       "DepMap_ID                                                                \n",
       "ACH-000001  3.122673  0.056584  0.250962  0.111031  0.000000  1.035624   \n",
       "ACH-000002  1.416840  0.000000  0.286881  0.111031  0.000000  0.150560   \n",
       "ACH-000003  1.400538  4.335569  0.321928  0.150560  0.000000  4.207893   \n",
       "ACH-000004  4.180307  0.000000  0.286881  0.344828  0.070389  0.097611   \n",
       "ACH-000005  4.023255  0.014355  0.226509  0.014355  0.000000  0.028569   \n",
       "\n",
       "               A4GNT      AAAS      AACS     AADAC  ...    ZWILCH     ZWINT  \\\n",
       "DepMap_ID                                           ...                       \n",
       "ACH-000001  0.176323  5.845741  4.125155  0.815575  ...  5.049631  6.695715   \n",
       "ACH-000002  0.000000  5.221877  1.967169  0.000000  ...  3.176323  6.398487   \n",
       "ACH-000003  0.097611  5.332350  3.931683  1.827819  ...  3.931683  7.555049   \n",
       "ACH-000004  0.000000  6.430620  3.212569  0.000000  ...  4.242603  6.119356   \n",
       "ACH-000005  0.000000  6.397461  3.773996  0.000000  ...  5.603181  6.825531   \n",
       "\n",
       "                ZXDA      ZXDB      ZXDC    ZYG11A    ZYG11B       ZYX  \\\n",
       "DepMap_ID                                                                \n",
       "ACH-000001  0.948601  1.839960  4.696550  3.273516  2.811471  6.825786   \n",
       "ACH-000002  0.056584  0.963474  3.951401  0.000000  1.090853  6.019924   \n",
       "ACH-000003  0.443607  1.475085  2.841973  0.695994  2.321928  7.326340   \n",
       "ACH-000004  0.765535  1.545968  3.617063  0.014355  2.070389  7.036503   \n",
       "ACH-000005  0.765535  1.704872  3.775051  0.014355  2.797013  6.863319   \n",
       "\n",
       "               ZZEF1      ZZZ3  \n",
       "DepMap_ID                       \n",
       "ACH-000001  3.005400  4.710393  \n",
       "ACH-000002  2.195348  3.363171  \n",
       "ACH-000003  2.643856  2.961623  \n",
       "ACH-000004  3.436961  5.269407  \n",
       "ACH-000005  3.524816  5.982994  \n",
       "\n",
       "[5 rows x 19144 columns]"
      ]
     },
     "execution_count": 29,
     "metadata": {},
     "output_type": "execute_result"
    }
   ],
   "source": [
    "rna.head()"
   ]
  },
  {
   "cell_type": "code",
   "execution_count": 30,
   "metadata": {
    "ExecuteTime": {
     "end_time": "2020-06-25T12:31:29.797951Z",
     "start_time": "2020-06-25T12:31:29.649481Z"
    }
   },
   "outputs": [],
   "source": [
    "rna.to_pickle(\"../data/CCLE_RNA_processed.pkl\")"
   ]
  },
  {
   "cell_type": "code",
   "execution_count": 31,
   "metadata": {
    "ExecuteTime": {
     "end_time": "2020-06-25T12:32:05.421431Z",
     "start_time": "2020-06-25T12:31:29.803636Z"
    }
   },
   "outputs": [],
   "source": [
    "rna.round(6).to_csv(\"../data/CCLE_RNA_processed.csv\")"
   ]
  },
  {
   "cell_type": "markdown",
   "metadata": {},
   "source": [
    "# protein"
   ]
  },
  {
   "cell_type": "code",
   "execution_count": 32,
   "metadata": {
    "ExecuteTime": {
     "end_time": "2020-06-25T12:32:10.774421Z",
     "start_time": "2020-06-25T12:32:09.726324Z"
    }
   },
   "outputs": [],
   "source": [
    "protein = pd.read_csv(\"../data/protein_quant_current_normalized.csv\")"
   ]
  },
  {
   "cell_type": "code",
   "execution_count": 33,
   "metadata": {
    "ExecuteTime": {
     "end_time": "2020-06-25T12:32:11.340426Z",
     "start_time": "2020-06-25T12:32:11.157137Z"
    }
   },
   "outputs": [],
   "source": [
    "protein = protein.drop(\n",
    "    ['Protein_Id', 'Gene_Symbol', 'Description', 'Group_ID', 'Uniprot_Acc'],\n",
    "    axis=1).rename(columns={\n",
    "        'Uniprot': 'Protein'\n",
    "    }).set_index('Protein')\n",
    "protein = protein.drop([\n",
    "    'SW948_LARGE_INTESTINE_TenPx11', 'CAL120_BREAST_TenPx02',\n",
    "    'HCT15_LARGE_INTESTINE_TenPx30'\n",
    "],\n",
    "                         axis=1)"
   ]
  },
  {
   "cell_type": "code",
   "execution_count": 34,
   "metadata": {
    "ExecuteTime": {
     "end_time": "2020-06-25T12:32:11.574393Z",
     "start_time": "2020-06-25T12:32:11.526787Z"
    }
   },
   "outputs": [],
   "source": [
    "rename_dict = {}\n",
    "for x in protein.columns.to_list():\n",
    "    rename_dict[x] = x.split('_TenPx')[0]\n",
    "protein = protein.rename(columns=rename_dict)\n",
    "protein = protein.drop(\n",
    "    [x for x in protein.columns.tolist() if 'TenPx' in x],\n",
    "    axis=1).transpose()"
   ]
  },
  {
   "cell_type": "code",
   "execution_count": 35,
   "metadata": {
    "ExecuteTime": {
     "end_time": "2020-06-25T12:32:11.926668Z",
     "start_time": "2020-06-25T12:32:11.921984Z"
    }
   },
   "outputs": [],
   "source": [
    "protein.index.name = 'CCLE_ID'"
   ]
  },
  {
   "cell_type": "code",
   "execution_count": 36,
   "metadata": {
    "ExecuteTime": {
     "end_time": "2020-06-25T12:32:12.689617Z",
     "start_time": "2020-06-25T12:32:12.683525Z"
    }
   },
   "outputs": [],
   "source": [
    "protein.index = protein.index.map(ccle2depmap)\n",
    "protein.index.name = 'DepMap_ID'"
   ]
  },
  {
   "cell_type": "code",
   "execution_count": 37,
   "metadata": {
    "ExecuteTime": {
     "end_time": "2020-06-25T12:32:12.923887Z",
     "start_time": "2020-06-25T12:32:12.815226Z"
    }
   },
   "outputs": [],
   "source": [
    "protein = protein[[x for x in protein.columns if x in name_map_dict]]\n",
    "protein.columns = [name_map_dict[x] for x in protein.columns]"
   ]
  },
  {
   "cell_type": "code",
   "execution_count": 38,
   "metadata": {
    "ExecuteTime": {
     "end_time": "2020-06-25T12:32:13.084544Z",
     "start_time": "2020-06-25T12:32:12.963220Z"
    }
   },
   "outputs": [],
   "source": [
    "protein = protein[sorted(protein.columns)]\n",
    "protein = protein.sort_values(by='DepMap_ID')"
   ]
  },
  {
   "cell_type": "code",
   "execution_count": 33,
   "metadata": {
    "ExecuteTime": {
     "end_time": "2020-06-04T06:59:09.682064Z",
     "start_time": "2020-06-04T06:59:09.646571Z"
    }
   },
   "outputs": [],
   "source": [
    "protein.to_pickle(\"../data/CCLE_protein_processed.pkl\")"
   ]
  },
  {
   "cell_type": "code",
   "execution_count": 39,
   "metadata": {
    "ExecuteTime": {
     "end_time": "2020-06-25T12:32:24.552874Z",
     "start_time": "2020-06-25T12:32:14.254193Z"
    }
   },
   "outputs": [],
   "source": [
    "protein.round(6).to_csv(\"../data/CCLE_protein_processed.csv\")"
   ]
  },
  {
   "cell_type": "markdown",
   "metadata": {},
   "source": [
    "# drug"
   ]
  },
  {
   "cell_type": "code",
   "execution_count": 147,
   "metadata": {
    "ExecuteTime": {
     "end_time": "2020-06-26T07:07:44.946821Z",
     "start_time": "2020-06-26T07:07:42.476761Z"
    }
   },
   "outputs": [],
   "source": [
    "drug = pd.read_csv(\"../data/secondary-screen-dose-response-curve-parameters.csv\", low_memory=False)"
   ]
  },
  {
   "cell_type": "code",
   "execution_count": 63,
   "metadata": {
    "ExecuteTime": {
     "end_time": "2020-06-26T03:27:55.288610Z",
     "start_time": "2020-06-26T03:27:54.939460Z"
    }
   },
   "outputs": [
    {
     "data": {
      "text/plain": [
       "<matplotlib.axes._subplots.AxesSubplot at 0x7fd8d00a8280>"
      ]
     },
     "execution_count": 63,
     "metadata": {},
     "output_type": "execute_result"
    },
    {
     "data": {
      "image/png": "[encoded data removed]",
      "text/plain": [
       "<Figure size 432x288 with 1 Axes>"
      ]
     },
     "metadata": {
      "needs_background": "light"
     },
     "output_type": "display_data"
    }
   ],
   "source": [
    "drug = drug[['depmap_id', 'name', 'ic50']].drop_duplicates().dropna()\n",
    "drug.columns = ['DepMap_ID', 'drug_name', 'IC50']\n",
    "sns.distplot(drug.groupby(['DepMap_ID']).size())"
   ]
  },
  {
   "cell_type": "code",
   "execution_count": 64,
   "metadata": {
    "ExecuteTime": {
     "end_time": "2020-06-26T03:27:56.754905Z",
     "start_time": "2020-06-26T03:27:55.924920Z"
    }
   },
   "outputs": [],
   "source": [
    "drug.to_csv(\"../data/broad_drug_processed_ic50.csv\", index=False)"
   ]
  },
  {
   "cell_type": "code",
   "execution_count": 65,
   "metadata": {
    "ExecuteTime": {
     "end_time": "2020-06-26T03:28:00.849169Z",
     "start_time": "2020-06-26T03:27:58.013030Z"
    }
   },
   "outputs": [
    {
     "data": {
      "text/plain": [
       "<matplotlib.axes._subplots.AxesSubplot at 0x7fd88509f6d0>"
      ]
     },
     "execution_count": 65,
     "metadata": {},
     "output_type": "execute_result"
    },
    {
     "data": {
      "image/png": "[encoded data removed]",
      "text/plain": [
       "<Figure size 432x288 with 1 Axes>"
      ]
     },
     "metadata": {
      "needs_background": "light"
     },
     "output_type": "display_data"
    }
   ],
   "source": [
    "drug = pd.read_csv(\"../data/secondary-screen-dose-response-curve-parameters.csv\", low_memory=False)\n",
    "drug = drug[['depmap_id', 'name', 'auc']].dropna().drop_duplicates()\n",
    "drug.columns = ['DepMap_ID', 'drug_name', 'AUC']\n",
    "sns.distplot(drug.groupby(['DepMap_ID']).size())"
   ]
  },
  {
   "cell_type": "code",
   "execution_count": 66,
   "metadata": {
    "ExecuteTime": {
     "end_time": "2020-06-26T03:28:02.405786Z",
     "start_time": "2020-06-26T03:28:00.851136Z"
    }
   },
   "outputs": [],
   "source": [
    "drug.to_csv(\"../data/broad_drug_processed_auc.csv\", index=False)"
   ]
  },
  {
   "cell_type": "markdown",
   "metadata": {},
   "source": [
    "# filtering"
   ]
  },
  {
   "cell_type": "code",
   "execution_count": 206,
   "metadata": {
    "ExecuteTime": {
     "end_time": "2020-06-29T01:17:45.504527Z",
     "start_time": "2020-06-29T01:17:44.923035Z"
    }
   },
   "outputs": [],
   "source": [
    "mutation = pd.read_pickle(f\"../data/CCLE_mutations_processed.pkl\")\n",
    "cn = pd.read_pickle(f\"../data/CCLE_CN_processed.pkl\")\n",
    "rna = pd.read_pickle(f\"../data/CCLE_RNA_processed.pkl\")\n",
    "protein = pd.read_pickle(f\"../data/CCLE_protein_processed.pkl\")\n",
    "drug = pd.read_csv(\"../data/broad_drug_processed_auc.csv\")"
   ]
  },
  {
   "cell_type": "code",
   "execution_count": 163,
   "metadata": {
    "ExecuteTime": {
     "end_time": "2020-06-26T12:34:19.819045Z",
     "start_time": "2020-06-26T12:34:19.789997Z"
    }
   },
   "outputs": [],
   "source": [
    "common_samples = set(drug['DepMap_ID'].unique()).intersection(\n",
    "    mutation.index.values).intersection(cn.index.values).intersection(\n",
    "        rna.index.values).intersection(protein.index.values)"
   ]
  },
  {
   "cell_type": "code",
   "execution_count": 167,
   "metadata": {
    "ExecuteTime": {
     "end_time": "2020-06-26T12:34:48.808017Z",
     "start_time": "2020-06-26T12:34:48.629821Z"
    }
   },
   "outputs": [],
   "source": [
    "mutation = mutation.loc[common_samples,:]\n",
    "cn = cn.loc[common_samples,:]\n",
    "rna = rna.loc[common_samples,:]\n",
    "protein = protein.loc[common_samples,:]"
   ]
  },
  {
   "cell_type": "code",
   "execution_count": 188,
   "metadata": {
    "ExecuteTime": {
     "end_time": "2020-06-26T12:44:02.166388Z",
     "start_time": "2020-06-26T12:44:02.087190Z"
    }
   },
   "outputs": [],
   "source": [
    "mutation = mutation.loc[:,mutation.sum(axis=0) > 5]\n",
    "mutation[mutation>1] = 1\n",
    "rna = rna.loc[:,(rna > 0).sum(axis=0) > 5]\n",
    "cn = cn[set(cn.columns).intersection(rna.columns)]\n",
    "protein = protein[set(protein.columns).intersection(rna.columns)]"
   ]
  },
  {
   "cell_type": "code",
   "execution_count": 191,
   "metadata": {
    "ExecuteTime": {
     "end_time": "2020-06-26T12:44:39.571784Z",
     "start_time": "2020-06-26T12:44:39.525237Z"
    }
   },
   "outputs": [],
   "source": [
    "drug = drug[drug['DepMap_ID'].isin(common_samples)]"
   ]
  },
  {
   "cell_type": "code",
   "execution_count": 202,
   "metadata": {
    "ExecuteTime": {
     "end_time": "2020-06-26T12:49:23.856769Z",
     "start_time": "2020-06-26T12:49:23.590649Z"
    }
   },
   "outputs": [],
   "source": [
    "mutation.to_pickle(\"../data/CCLE_mutations_processed_filtered.pkl\")\n",
    "mutation.to_csv(\"../data/CCLE_mutations_processed_filtered.csv\")"
   ]
  },
  {
   "cell_type": "code",
   "execution_count": 203,
   "metadata": {
    "ExecuteTime": {
     "end_time": "2020-06-26T12:56:11.889272Z",
     "start_time": "2020-06-26T12:56:04.952512Z"
    }
   },
   "outputs": [],
   "source": [
    "cn.to_pickle(\"../data/CCLE_CN_processed_filtered.pkl\")\n",
    "cn.round(6).to_csv(\"../data/CCLE_CN_processed_filtered.csv\")"
   ]
  },
  {
   "cell_type": "code",
   "execution_count": 204,
   "metadata": {
    "ExecuteTime": {
     "end_time": "2020-06-26T12:56:18.815799Z",
     "start_time": "2020-06-26T12:56:11.891175Z"
    }
   },
   "outputs": [],
   "source": [
    "rna.to_pickle(\"../data/CCLE_RNA_processed_filtered.pkl\")\n",
    "rna.round(6).to_csv(\"../data/CCLE_RNA_processed_filtered.csv\")"
   ]
  },
  {
   "cell_type": "code",
   "execution_count": 198,
   "metadata": {
    "ExecuteTime": {
     "end_time": "2020-06-26T12:47:56.318199Z",
     "start_time": "2020-06-26T12:47:50.141514Z"
    }
   },
   "outputs": [],
   "source": [
    "protein.to_pickle(\"../data/CCLE_protein_processed_filtered.pkl\")\n",
    "protein.round(6).to_csv(\"../data/CCLE_protein_processed_filtered.csv\")"
   ]
  },
  {
   "cell_type": "code",
   "execution_count": 193,
   "metadata": {
    "ExecuteTime": {
     "end_time": "2020-06-26T12:45:02.522798Z",
     "start_time": "2020-06-26T12:45:00.979476Z"
    }
   },
   "outputs": [
    {
     "data": {
      "text/plain": [
       "<matplotlib.axes._subplots.AxesSubplot at 0x7fd999763520>"
      ]
     },
     "execution_count": 193,
     "metadata": {},
     "output_type": "execute_result"
    },
    {
     "data": {
      "image/png": "[encoded data removed]",
      "text/plain": [
       "<Figure size 432x288 with 1 Axes>"
      ]
     },
     "metadata": {
      "needs_background": "light"
     },
     "output_type": "display_data"
    }
   ],
   "source": [
    "sns.distplot(cn.values)"
   ]
  },
  {
   "cell_type": "markdown",
   "metadata": {},
   "source": [
    "# PCA & umap"
   ]
  },
  {
   "cell_type": "code",
   "execution_count": 7,
   "metadata": {
    "ExecuteTime": {
     "end_time": "2020-06-30T02:08:53.021976Z",
     "start_time": "2020-06-30T02:08:52.733615Z"
    }
   },
   "outputs": [],
   "source": [
    "mutation = pd.read_pickle(f\"../data/CCLE_mutations_processed_filtered.pkl\")\n",
    "cn = pd.read_pickle(f\"../data/CCLE_CN_processed_filtered.pkl\")\n",
    "rna = pd.read_pickle(f\"../data/CCLE_RNA_processed_filtered.pkl\")\n",
    "protein = pd.read_pickle(f\"../data/CCLE_protein_processed_filtered.pkl\")\n",
    "drug = pd.read_csv(\"../data/broad_drug_processed_auc.csv\")"
   ]
  },
  {
   "cell_type": "code",
   "execution_count": 210,
   "metadata": {
    "ExecuteTime": {
     "end_time": "2020-06-29T01:19:06.114482Z",
     "start_time": "2020-06-29T01:19:06.072709Z"
    }
   },
   "outputs": [],
   "source": [
    "X = pd.concat([mutation, cn, rna, protein], axis=1)\n",
    "\n",
    "X = SimpleImputer().fit_transform(X.values)"
   ]
  },
  {
   "cell_type": "code",
   "execution_count": 216,
   "metadata": {
    "ExecuteTime": {
     "end_time": "2020-06-29T01:20:58.122370Z",
     "start_time": "2020-06-29T01:20:58.120019Z"
    }
   },
   "outputs": [],
   "source": [
    "pca = PCA(n_components=30)\n",
    "pca.fit(X)"
   ]
  },
  {
   "cell_type": "code",
   "execution_count": 221,
   "metadata": {
    "ExecuteTime": {
     "end_time": "2020-06-29T01:22:26.879480Z",
     "start_time": "2020-06-29T01:22:26.827229Z"
    }
   },
   "outputs": [],
   "source": [
    "pca_df = pd.DataFrame(pca.transform(X), index=mutation.index, columns=[f\"PC{x+1}\" for x in range(30)])\n",
    "\n",
    "pca_df.to_csv(\"../data/drug/PCA.csv\")"
   ]
  },
  {
   "cell_type": "code",
   "execution_count": 230,
   "metadata": {
    "ExecuteTime": {
     "end_time": "2020-06-29T01:34:23.114065Z",
     "start_time": "2020-06-29T01:34:21.036611Z"
    }
   },
   "outputs": [],
   "source": [
    "umap_df = umap.UMAP(random_state=42, n_components=30).fit_transform(X)\n",
    "\n",
    "umap_df = pd.DataFrame(umap_df, index=mutation.index, columns=[f\"UMAP_{x+1}\" for x in range(30)])"
   ]
  },
  {
   "cell_type": "code",
   "execution_count": 232,
   "metadata": {
    "ExecuteTime": {
     "end_time": "2020-06-29T01:34:41.816019Z",
     "start_time": "2020-06-29T01:34:41.803494Z"
    }
   },
   "outputs": [],
   "source": [
    "umap_df.to_csv(\"../data/drug/UMAP.csv\")"
   ]
  },
  {
   "cell_type": "markdown",
   "metadata": {},
   "source": [
    "# early-concat"
   ]
  },
  {
   "cell_type": "code",
   "execution_count": 19,
   "metadata": {
    "ExecuteTime": {
     "end_time": "2020-06-30T03:38:07.634043Z",
     "start_time": "2020-06-30T03:38:07.598982Z"
    }
   },
   "outputs": [],
   "source": [
    "mutation = pd.read_pickle(f\"../data/CCLE_mutations_processed_filtered.pkl\")\n",
    "cn = pd.read_pickle(f\"../data/CCLE_CN_processed_filtered.pkl\")\n",
    "rna = pd.read_pickle(f\"../data/CCLE_RNA_processed_filtered.pkl\")\n",
    "protein = pd.read_pickle(f\"../data/CCLE_protein_processed_filtered.pkl\")"
   ]
  },
  {
   "cell_type": "code",
   "execution_count": 20,
   "metadata": {
    "ExecuteTime": {
     "end_time": "2020-06-30T03:38:08.175139Z",
     "start_time": "2020-06-30T03:38:08.052089Z"
    }
   },
   "outputs": [],
   "source": [
    "protein = pd.DataFrame(SimpleImputer().fit_transform(protein.values), index=protein.index, columns=protein.columns)"
   ]
  },
  {
   "cell_type": "code",
   "execution_count": 21,
   "metadata": {
    "ExecuteTime": {
     "end_time": "2020-06-30T03:38:08.556124Z",
     "start_time": "2020-06-30T03:38:08.538710Z"
    }
   },
   "outputs": [],
   "source": [
    "mutation.columns = [f\"{x}_mutation\" for x in mutation.columns]\n",
    "\n",
    "cn.columns = [f\"{x}_cn\" for x in cn.columns]\n",
    "\n",
    "rna.columns = [f\"{x}_rna\" for x in rna.columns]\n",
    "\n",
    "protein.columns = [f\"{x}_protein\" for x in protein.columns]"
   ]
  },
  {
   "cell_type": "code",
   "execution_count": 22,
   "metadata": {
    "ExecuteTime": {
     "end_time": "2020-06-30T03:38:10.183805Z",
     "start_time": "2020-06-30T03:38:10.145153Z"
    }
   },
   "outputs": [],
   "source": [
    "df_early_concat = pd.concat([mutation, cn, rna, protein], axis=1)"
   ]
  },
  {
   "cell_type": "code",
   "execution_count": 24,
   "metadata": {
    "ExecuteTime": {
     "end_time": "2020-06-30T03:39:16.039379Z",
     "start_time": "2020-06-30T03:38:39.877923Z"
    }
   },
   "outputs": [],
   "source": [
    "df_early_concat.to_csv(\"../data/ccle_early_concat.csv.gz\")"
   ]
  },
  {
   "cell_type": "code",
   "execution_count": null,
   "metadata": {},
   "outputs": [],
   "source": []
  }
 ],
 "metadata": {
  "kernelspec": {
   "display_name": "Python 3",
   "language": "python",
   "name": "python3"
  },
  "language_info": {
   "codemirror_mode": {
    "name": "ipython",
    "version": 3
   },
   "file_extension": ".py",
   "mimetype": "text/x-python",
   "name": "python",
   "nbconvert_exporter": "python",
   "pygments_lexer": "ipython3",
   "version": "3.8.12"
  },
  "toc": {
   "base_numbering": 1,
   "nav_menu": {},
   "number_sections": true,
   "sideBar": true,
   "skip_h1_title": false,
   "title_cell": "Table of Contents",
   "title_sidebar": "Contents",
   "toc_cell": false,
   "toc_position": {},
   "toc_section_display": true,
   "toc_window_display": true
  }
 },
 "nbformat": 4,
 "nbformat_minor": 4
}
